{
 "cells": [
  {
   "cell_type": "markdown",
   "metadata": {
    "id": "C_LqSe6BOIMO"
   },
   "source": [
    "In this work, you are required to implement an easy linear regression with machine learning methods based on numpy. It is better not to use the deep learning libraries such as PyTorch or Tensorflow .etc."
   ]
  },
  {
   "cell_type": "markdown",
   "metadata": {
    "id": "jOJEgBOHTwG5"
   },
   "source": [
    "The first is the data generation. We can generate data that follows a linear distribution with the following functions."
   ]
  },
  {
   "cell_type": "code",
   "execution_count": 1,
   "metadata": {
    "id": "Z5aJpqiDNvj8"
   },
   "outputs": [],
   "source": [
    "import numpy as np\n",
    "def get_data(num):\n",
    "  for _ in range(num):\n",
    "    x = np.random.uniform(-10.0, 10.0)\n",
    "    noise = np.random.normal(0, 1)\n",
    "    y = x * 2 + 1 + noise\n",
    "    yield np.array([x]).astype(np.float32), np.array([y]).astype(np.float32)\n",
    "\n",
    "x = np.array([])\n",
    "y = np.array([])\n",
    "for x0, y0 in get_data(1000):\n",
    "  x = np.append(x, x0)\n",
    "  y = np.append(y, y0)"
   ]
  },
  {
   "cell_type": "markdown",
   "metadata": {
    "id": "HwsYNcPpVrog"
   },
   "source": [
    "The following is setting the hyperparameters, and the initialization of the learnable parameters."
   ]
  },
  {
   "cell_type": "code",
   "execution_count": 2,
   "metadata": {
    "id": "tpmidqWHV7st"
   },
   "outputs": [],
   "source": [
    "learn_rate = 0.00001\n",
    "epochs = 100\n",
    "display_step = 10\n",
    "np.random.seed(0)\n",
    "w = np.random.rand()\n",
    "b = np.random.rand()"
   ]
  },
  {
   "cell_type": "markdown",
   "metadata": {
    "id": "XoLQ2KCMWKz-"
   },
   "source": [
    "So, you only need to write the code to train the learnable parameters w and b. We recommend you use the mean square error function."
   ]
  },
  {
   "cell_type": "code",
   "execution_count": 5,
   "metadata": {
    "id": "bKv5Se1tWmVY"
   },
   "outputs": [
    {
     "name": "stdout",
     "output_type": "stream",
     "text": [
      "Epoch: 10 Loss: 1.1298911953180968\n",
      "Epoch: 20 Loss: 1.1298730242504285\n",
      "Epoch: 30 Loss: 1.1298548568535058\n",
      "Epoch: 40 Loss: 1.1298366931263382\n",
      "Epoch: 50 Loss: 1.1298185330679362\n",
      "Epoch: 60 Loss: 1.1298003766773124\n",
      "Epoch: 70 Loss: 1.1297822239534825\n",
      "Epoch: 80 Loss: 1.1297640748954627\n",
      "Epoch: 90 Loss: 1.1297459295022723\n",
      "Epoch: 100 Loss: 1.1297277877729306\n"
     ]
    },
    {
     "data": {
      "image/png": "[encoded data removed]",
      "text/plain": [
       "<Figure size 432x288 with 1 Axes>"
      ]
     },
     "metadata": {
      "needs_background": "light"
     },
     "output_type": "display_data"
    }
   ],
   "source": [
    "def mean_squared_error(y_true, y_pred):\n",
    "    return np.mean(np.square(y_true - y_pred))\n",
    "\n",
    "\n",
    "for epoch in range(epochs):\n",
    "  # Your code here\n",
    "  # 计算预测值\n",
    "    Y_pred = np.dot(X, w) + b\n",
    "    \n",
    "    # 计算损失\n",
    "    loss = mean_squared_error(Y, Y_pred)\n",
    "    \n",
    "    # 计算梯度\n",
    "    dw = np.mean((Y_pred - Y) * X)\n",
    "    db = np.mean(Y_pred - Y)\n",
    "    \n",
    "    # 更新参数\n",
    "    w -= learn_rate * dw\n",
    "    b -= learn_rate * db\n",
    "    \n",
    "    # 每隔一定迭代次数打印损失\n",
    "    if (epoch + 1) % display_step == 0:\n",
    "        print(\"Epoch:\", epoch+1, \"Loss:\", loss)\n",
    "        \n",
    "\n",
    "# 可视化结果\n",
    "plt.scatter(x, y, label='Original data')\n",
    "plt.plot(x, np.dot(X, w) + b, color='red', label='Fitted line')\n",
    "plt.xlabel('X')\n",
    "plt.ylabel('Y')\n",
    "plt.legend()\n",
    "plt.show()\n",
    "  # End your code"
   ]
  },
  {
   "cell_type": "code",
   "execution_count": null,
   "metadata": {},
   "outputs": [],
   "source": []
  }
 ],
 "metadata": {
  "colab": {
   "provenance": []
  },
  "kernelspec": {
   "display_name": "Python 3",
   "language": "python",
   "name": "python3"
  },
  "language_info": {
   "codemirror_mode": {
    "name": "ipython",
    "version": 3
   },
   "file_extension": ".py",
   "mimetype": "text/x-python",
   "name": "python",
   "nbconvert_exporter": "python",
   "pygments_lexer": "ipython3",
   "version": "3.7.0"
  }
 },
 "nbformat": 4,
 "nbformat_minor": 1
}
