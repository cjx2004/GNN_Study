{
 "cells": [
  {
   "cell_type": "markdown",
   "metadata": {
    "id": "chi4omZLZbt4"
   },
   "source": [
    "In this work, you are required to train a model for dataset MNIST with PyTorch."
   ]
  },
  {
   "cell_type": "markdown",
   "metadata": {
    "id": "jrA70ruIaN-A"
   },
   "source": [
    "Load dataset:"
   ]
  },
  {
   "cell_type": "code",
   "execution_count": null,
   "metadata": {
    "id": "dguqwltQ9TC4"
   },
   "outputs": [],
   "source": [
    "import torchvision\n",
    "from torchvision.datasets import MNIST\n",
    "from torch.utils.data import DataLoader\n",
    "import torch\n",
    "import torch.nn as nn\n",
    "import torch.nn.functional as F\n",
    "\n",
    "train_data = MNIST(\n",
    "    root = \"data\",\n",
    "    download = True,\n",
    "    train = True,\n",
    "    transform = torchvision.transforms.ToTensor()\n",
    "    )\n",
    "test_data = MNIST(\n",
    "    root = \"data\",\n",
    "    download = True,\n",
    "    train = False,\n",
    "    transform = torchvision.transforms.ToTensor()\n",
    "    )\n",
    "\n",
    "train_dataloader = DataLoader(train_data, batch_size = 64)\n",
    "test_dataloader = DataLoader(test_data, batch_size = 64)"
   ]
  },
  {
   "cell_type": "markdown",
   "metadata": {
    "id": "ovgrtfvNa-VF"
   },
   "source": [
    "Model: you may select your favorite model and implement it in the following class."
   ]
  },
  {
   "cell_type": "code",
   "execution_count": null,
   "metadata": {
    "id": "I_Bo3r3FbIWO"
   },
   "outputs": [],
   "source": [
    "class Model:\n",
    "  # Your code here\n",
    "  pass\n",
    "  # End code here"
   ]
  },
  {
   "cell_type": "markdown",
   "metadata": {
    "id": "F2IadIrIbU8V"
   },
   "source": [
    "Evaluation: you need to implement a pipeline to train your neural network."
   ]
  },
  {
   "cell_type": "code",
   "execution_count": null,
   "metadata": {
    "id": "0RKqr0UebjDf"
   },
   "outputs": [],
   "source": [
    "model = Model()\n",
    "optimizer = torch.optim.Adam(model.parameters())\n",
    "loss_func = nn.CrossEntropyLoss()\n",
    "for epoch in range(epochs):\n",
    "  # Your code here\n",
    "  pass\n",
    "  # End code here"
   ]
  }
 ],
 "metadata": {
  "colab": {
   "provenance": []
  },
  "kernelspec": {
   "display_name": "Python 3",
   "language": "python",
   "name": "python3"
  },
  "language_info": {
   "codemirror_mode": {
    "name": "ipython",
    "version": 3
   },
   "file_extension": ".py",
   "mimetype": "text/x-python",
   "name": "python",
   "nbconvert_exporter": "python",
   "pygments_lexer": "ipython3",
   "version": "3.7.0"
  }
 },
 "nbformat": 4,
 "nbformat_minor": 1
}
