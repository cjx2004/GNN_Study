{
 "cells": [
  {
   "cell_type": "markdown",
   "metadata": {
    "id": "AlNTfUPr23ZK"
   },
   "source": [
    "In this work, you will use the APIs of PyG and DGL to implement some basic functions."
   ]
  },
  {
   "cell_type": "markdown",
   "metadata": {
    "id": "JaQosFNq8NdN"
   },
   "source": [
    "You need to run the following commands to install the GNN libraries (Only CPU version)."
   ]
  },
  {
   "cell_type": "code",
   "execution_count": 4,
   "metadata": {
    "id": "WFIKyZRk8WRm"
   },
   "outputs": [
    {
     "name": "stdout",
     "output_type": "stream",
     "text": [
      "Looking in links: https://data.dgl.ai/wheels/repo.html\n",
      "Collecting dgl\n",
      "  Using cached https://data.dgl.ai/wheels/dgl-2.0.0%2Bcu121-cp37-cp37m-win_amd64.whl\n",
      "Requirement already satisfied: numpy>=1.14.0 in d:\\anaconda\\lib\\site-packages (from dgl) (1.15.1)\n",
      "Collecting torchdata>=0.5.0 (from dgl)\n",
      "  Using cached https://files.pythonhosted.org/packages/6b/71/0cad26292dcf222bb8640c36303daf8d8f6ec336e1cc0bea6a2076e9511c/torchdata-0.5.1-cp37-cp37m-win_amd64.whl\n",
      "Requirement already satisfied: psutil>=5.8.0 in d:\\anaconda\\lib\\site-packages (from dgl) (5.9.8)\n",
      "Requirement already satisfied: networkx>=2.1 in d:\\anaconda\\lib\\site-packages (from dgl) (2.1)\n",
      "Requirement already satisfied: scipy>=1.1.0 in d:\\anaconda\\lib\\site-packages (from dgl) (1.1.0)\n",
      "Requirement already satisfied: requests>=2.19.0 in d:\\anaconda\\lib\\site-packages (from dgl) (2.19.1)\n",
      "Requirement already satisfied: tqdm in d:\\anaconda\\lib\\site-packages (from dgl) (4.26.0)\n",
      "Collecting portalocker>=2.0.0 (from torchdata>=0.5.0->dgl)\n",
      "  Using cached https://files.pythonhosted.org/packages/8c/df/d4f711d168524f5aebd7fb30969eaa31e3048cf8979688cde3b08f6e5eb8/portalocker-2.7.0-py2.py3-none-any.whl\n",
      "Collecting urllib3>=1.25 (from torchdata>=0.5.0->dgl)\n",
      "  Using cached https://files.pythonhosted.org/packages/d2/b2/b157855192a68541a91ba7b2bbcb91f1b4faa51f8bae38d8005c034be524/urllib3-2.0.7-py3-none-any.whl\n",
      "Requirement already satisfied: torch==1.13.1 in d:\\anaconda\\lib\\site-packages (from torchdata>=0.5.0->dgl) (1.13.1)\n",
      "Requirement already satisfied: decorator>=4.1.0 in d:\\anaconda\\lib\\site-packages (from networkx>=2.1->dgl) (4.3.0)\n",
      "Requirement already satisfied: chardet<3.1.0,>=3.0.2 in d:\\anaconda\\lib\\site-packages (from requests>=2.19.0->dgl) (3.0.4)\n",
      "Requirement already satisfied: idna<2.8,>=2.5 in d:\\anaconda\\lib\\site-packages (from requests>=2.19.0->dgl) (2.7)\n",
      "Requirement already satisfied: certifi>=2017.4.17 in d:\\anaconda\\lib\\site-packages (from requests>=2.19.0->dgl) (2018.8.24)\n",
      "Collecting pywin32>=226; platform_system == \"Windows\" (from portalocker>=2.0.0->torchdata>=0.5.0->dgl)\n",
      "  Using cached https://files.pythonhosted.org/packages/80/e6/08192cb5728a6ffdb70ea990d9a1351b320d31a751bb463e652d9e05e7aa/pywin32-306-cp37-cp37m-win_amd64.whl\n",
      "Requirement already satisfied: typing-extensions in d:\\anaconda\\lib\\site-packages (from torch==1.13.1->torchdata>=0.5.0->dgl) (4.7.1)\n",
      "Installing collected packages: pywin32, portalocker, urllib3, torchdata, dgl\n",
      "  Found existing installation: pywin32 223\n",
      "    Uninstalling pywin32-223:\n"
     ]
    },
    {
     "name": "stderr",
     "output_type": "stream",
     "text": [
      "  Retrying (Retry(total=4, connect=None, read=None, redirect=None, status=None)) after connection broken by 'ProxyError('Cannot connect to proxy.', OSError(0, 'Error'))': /wheels/dgl-2.0.0%2Bcu121-cp37-cp37m-win_amd64.whl\n",
      "twisted 18.7.0 requires PyHamcrest>=1.9.0, which is not installed.\n",
      "requests 2.19.1 has requirement urllib3<1.24,>=1.21.1, but you'll have urllib3 2.0.7 which is incompatible.\n",
      "Could not install packages due to an EnvironmentError: [WinError 5] 拒绝访问。: 'd:\\\\anaconda\\\\lib\\\\site-packages\\\\__pycache__\\\\pythoncom.cpython-37.pyc'\n",
      "Consider using the `--user` option or check the permissions.\n",
      "\n",
      "You are using pip version 10.0.1, however version 24.0 is available.\n",
      "You should consider upgrading via the 'python -m pip install --upgrade pip' command.\n"
     ]
    },
    {
     "name": "stdout",
     "output_type": "stream",
     "text": [
      "Requirement already satisfied: torch_geometric in d:\\anaconda\\lib\\site-packages (2.3.1)\n",
      "Requirement already satisfied: psutil>=5.8.0 in d:\\anaconda\\lib\\site-packages (from torch_geometric) (5.9.8)\n",
      "Requirement already satisfied: scikit-learn in d:\\anaconda\\lib\\site-packages (from torch_geometric) (0.19.2)\n",
      "Requirement already satisfied: tqdm in d:\\anaconda\\lib\\site-packages (from torch_geometric) (4.26.0)\n",
      "Requirement already satisfied: jinja2 in d:\\anaconda\\lib\\site-packages (from torch_geometric) (2.10)\n",
      "Requirement already satisfied: numpy in d:\\anaconda\\lib\\site-packages (from torch_geometric) (1.15.1)\n",
      "Requirement already satisfied: pyparsing in d:\\anaconda\\lib\\site-packages (from torch_geometric) (2.2.0)\n",
      "Requirement already satisfied: scipy in d:\\anaconda\\lib\\site-packages (from torch_geometric) (1.1.0)\n",
      "Requirement already satisfied: requests in d:\\anaconda\\lib\\site-packages (from torch_geometric) (2.19.1)\n",
      "Requirement already satisfied: MarkupSafe>=0.23 in d:\\anaconda\\lib\\site-packages (from jinja2->torch_geometric) (1.0)\n",
      "Requirement already satisfied: urllib3<1.24,>=1.21.1 in d:\\anaconda\\lib\\site-packages (from requests->torch_geometric) (1.23)\n",
      "Requirement already satisfied: certifi>=2017.4.17 in d:\\anaconda\\lib\\site-packages (from requests->torch_geometric) (2018.8.24)\n",
      "Requirement already satisfied: chardet<3.1.0,>=3.0.2 in d:\\anaconda\\lib\\site-packages (from requests->torch_geometric) (3.0.4)\n",
      "Requirement already satisfied: idna<2.8,>=2.5 in d:\\anaconda\\lib\\site-packages (from requests->torch_geometric) (2.7)\n"
     ]
    },
    {
     "name": "stderr",
     "output_type": "stream",
     "text": [
      "twisted 18.7.0 requires PyHamcrest>=1.9.0, which is not installed.\n",
      "You are using pip version 10.0.1, however version 24.0 is available.\n",
      "You should consider upgrading via the 'python -m pip install --upgrade pip' command.\n"
     ]
    },
    {
     "name": "stdout",
     "output_type": "stream",
     "text": [
      "Looking in links: https://data.pyg.org/whl/torch-2.0.1+cpu.html\n",
      "Collecting pyg_lib\n"
     ]
    },
    {
     "name": "stderr",
     "output_type": "stream",
     "text": [
      "  Retrying (Retry(total=4, connect=None, read=None, redirect=None, status=None)) after connection broken by 'ProxyError('Cannot connect to proxy.', OSError(0, 'Error'))': /simple/pyg-lib/\n",
      "  Could not find a version that satisfies the requirement pyg_lib (from versions: )\n",
      "No matching distribution found for pyg_lib\n",
      "You are using pip version 10.0.1, however version 24.0 is available.\n",
      "You should consider upgrading via the 'python -m pip install --upgrade pip' command.\n"
     ]
    }
   ],
   "source": [
    "!pip install  dgl -f https://data.dgl.ai/wheels/repo.html\n",
    "!pip install torch_geometric\n",
    "!pip install pyg_lib torch_scatter torch_sparse torch_cluster torch_spline_conv -f https://data.pyg.org/whl/torch-2.0.1+cpu.html"
   ]
  },
  {
   "cell_type": "markdown",
   "metadata": {
    "id": "aDRLr_Ot6-gE"
   },
   "source": [
    "The most popular GNN models can be written as follows:\n",
    "\n",
    "$$\n",
    "h_i^{(l+1)}=\\sigma(b^{(l)}+\\sum_{j\\in\\mathcal{N}(i)}e_{ij}h_j^{(l)}W^{(l)})\n",
    "$$\n",
    "\n",
    "where $h_i^{(l+1)}$ is the output feature, $\\sigma$ is the activation function, $e_{ij}$ is the edge weight, $W^{(l)}$ is the learnable parameters, $b^{(l)\n",
    "}$ is the bias.\n",
    "\n",
    "First, you will use the PyTorch-Geometric(PyG) to implement this convolution layer."
   ]
  },
  {
   "cell_type": "code",
   "execution_count": null,
   "metadata": {
    "id": "RAQfM5GS2qlv"
   },
   "outputs": [],
   "source": [
    "import torch\n",
    "import torch.nn as nn\n",
    "from torch_geometric.nn.conv import MessagePassing\n",
    "\n",
    "class PyG_conv(MessagePassing):\n",
    "  def __init__(\n",
    "      self,\n",
    "      in_channel,\n",
    "      out_channel,\n",
    "  ):\n",
    "    self.in_channel = in_channel\n",
    "    self.out_channel = out_channel\n",
    "    self.W = nn.Parameter(torch.ones((in_channel, out_channel)))\n",
    "    self.b = nn.Parameter(torch.ones(out_channel))\n",
    "\n",
    "  def forward(x, edge_index, edge_weight):\n",
    "    # Your code here\n",
    "    pass\n",
    "    # End code here\n",
    "\n",
    "  def message(x, edge_weight):\n",
    "    # Your code here\n",
    "    pass\n",
    "    # End code here\n"
   ]
  },
  {
   "cell_type": "markdown",
   "metadata": {
    "id": "xmxHSrJkH_xe"
   },
   "source": [
    "You may run the following code to check the correctness."
   ]
  },
  {
   "cell_type": "code",
   "execution_count": null,
   "metadata": {
    "id": "ov24C3_hH-Sc"
   },
   "outputs": [],
   "source": [
    "import numpy as np\n",
    "edge_index = torch.tensor([[0,1,1,2,2,4],[2,0,2,3,4,3]])\n",
    "x = torch.ones((5, 8))\n",
    "edge_weight = 2 * torch.ones(6)\n",
    "conv = PyG_conv(8, 4)\n",
    "output = conv(x, edge_index, edge_weight)\n",
    "assert np.allclose(output.detach().numpy(), [[17., 17., 17., 17.],\n",
    "                      [ 1.,  1.,  1.,  1.],\n",
    "                      [33., 33., 33., 33.],\n",
    "                      [33., 33., 33., 33.],\n",
    "                      [17., 17., 17., 17.]])"
   ]
  },
  {
   "cell_type": "markdown",
   "metadata": {
    "id": "6Ou03H2BOdoE"
   },
   "source": [
    "Now, you will implement the same functions with DGL."
   ]
  },
  {
   "cell_type": "code",
   "execution_count": 4,
   "metadata": {
    "id": "eK5wT_h9Oh6S"
   },
   "outputs": [
    {
     "ename": "ModuleNotFoundError",
     "evalue": "No module named 'dgl.function'",
     "output_type": "error",
     "traceback": [
      "\u001b[1;31m---------------------------------------------------------------------------\u001b[0m",
      "\u001b[1;31mModuleNotFoundError\u001b[0m                       Traceback (most recent call last)",
      "\u001b[1;32m<ipython-input-4-6066344621c3>\u001b[0m in \u001b[0;36m<module>\u001b[1;34m()\u001b[0m\n\u001b[0;32m      1\u001b[0m \u001b[1;32mimport\u001b[0m \u001b[0mdgl\u001b[0m\u001b[1;33m\u001b[0m\u001b[0m\n\u001b[1;32m----> 2\u001b[1;33m \u001b[1;32mimport\u001b[0m \u001b[0mdgl\u001b[0m\u001b[1;33m.\u001b[0m\u001b[0mfunction\u001b[0m \u001b[1;32mas\u001b[0m \u001b[0mfn\u001b[0m\u001b[1;33m\u001b[0m\u001b[0m\n\u001b[0m\u001b[0;32m      3\u001b[0m \u001b[1;33m\u001b[0m\u001b[0m\n\u001b[0;32m      4\u001b[0m \u001b[1;32mclass\u001b[0m \u001b[0mDGL_conv\u001b[0m\u001b[1;33m(\u001b[0m\u001b[0mnn\u001b[0m\u001b[1;33m.\u001b[0m\u001b[0mModule\u001b[0m\u001b[1;33m)\u001b[0m\u001b[1;33m:\u001b[0m\u001b[1;33m\u001b[0m\u001b[0m\n\u001b[0;32m      5\u001b[0m   \u001b[1;32mdef\u001b[0m \u001b[0m__init__\u001b[0m\u001b[1;33m(\u001b[0m\u001b[0mself\u001b[0m\u001b[1;33m,\u001b[0m \u001b[0min_channel\u001b[0m\u001b[1;33m,\u001b[0m \u001b[0mout_channel\u001b[0m\u001b[1;33m)\u001b[0m\u001b[1;33m:\u001b[0m\u001b[1;33m\u001b[0m\u001b[0m\n",
      "\u001b[1;31mModuleNotFoundError\u001b[0m: No module named 'dgl.function'"
     ]
    }
   ],
   "source": [
    "import dgl\n",
    "import dgl.function as fn\n",
    "\n",
    "class DGL_conv(nn.Module):\n",
    "  def __init__(self, in_channel, out_channel):\n",
    "    self.in_channel = in_channel\n",
    "    self.out_channel = out_channel\n",
    "    self.W = nn.Parameter(torch.ones(in_channel, out_channel))\n",
    "    self.b = nn.Parameter(torch.ones(out_channel))\n",
    "\n",
    "  def forward(self, g, h):\n",
    "    # Your code here\n",
    "    pass\n",
    "    # End code here"
   ]
  },
  {
   "cell_type": "markdown",
   "metadata": {
    "id": "D3YW_vmbT_SC"
   },
   "source": [
    "Also, you can also run the code below to check the correctness."
   ]
  },
  {
   "cell_type": "code",
   "execution_count": null,
   "metadata": {
    "id": "dp1e8tejUFlS"
   },
   "outputs": [],
   "source": [
    "src = torch.tensor([0, 1, 1, 2, 2, 4])\n",
    "dst = torch.tensor([2, 0, 2, 3, 4, 3])\n",
    "h = torch.ones((5, 8))\n",
    "g = dgl.graph((src, dst))\n",
    "edge_weight = 2 * torch.ones(6)\n",
    "conv = DGL_conv(8, 4)\n",
    "output = conv(g, h, edge_weight)\n",
    "import numpy as np\n",
    "assert np.allclose(output.detach().numpy(), [[17., 17., 17., 17.],\n",
    "                      [ 1.,  1.,  1.,  1.],\n",
    "                      [33., 33., 33., 33.],\n",
    "                      [33., 33., 33., 33.],\n",
    "                      [17., 17., 17., 17.]])"
   ]
  }
 ],
 "metadata": {
  "colab": {
   "provenance": []
  },
  "kernelspec": {
   "display_name": "Python 3 (ipykernel)",
   "language": "python",
   "name": "python3"
  },
  "language_info": {
   "codemirror_mode": {
    "name": "ipython",
    "version": 3
   },
   "file_extension": ".py",
   "mimetype": "text/x-python",
   "name": "python",
   "nbconvert_exporter": "python",
   "pygments_lexer": "ipython3",
   "version": "3.8.18"
  }
 },
 "nbformat": 4,
 "nbformat_minor": 1
}
