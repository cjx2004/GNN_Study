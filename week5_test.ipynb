{
 "cells": [
  {
   "cell_type": "code",
   "execution_count": null,
   "metadata": {
    "scrolled": false
   },
   "outputs": [],
   "source": []
  },
  {
   "cell_type": "code",
   "execution_count": 25,
   "metadata": {},
   "outputs": [],
   "source": [
    "import torch\n",
    "import torch.nn as nn\n",
    "import dgl\n",
    "import dgl.function as fn\n",
    "\n",
    "class DGL_conv(nn.Module):\n",
    "    def __init__(self, in_channel, out_channel):\n",
    "        super(DGL_conv, self).__init__()  # 调用父类的初始化方法\n",
    "        self.in_channel = in_channel\n",
    "        self.out_channel = out_channel\n",
    "        self.W = nn.Parameter(torch.ones(in_channel, out_channel))\n",
    "        self.b = nn.Parameter(torch.ones(out_channel))\n",
    "\n",
    "    def forward(self, g, h, edge_weight=None):\n",
    "        g.ndata['h'] = h\n",
    "        if edge_weight is not None:\n",
    "            g.edata['w'] = edge_weight\n",
    "            g.update_all(fn.u_mul_e('h', 'w', 'm'), fn.sum('m', 'h_neigh'))\n",
    "        else:\n",
    "            g.update_all(fn.copy_src(src='h', out='m'), fn.sum(msg='m', out='h_neigh'))\n",
    "        h_neigh = g.ndata['h_neigh']\n",
    "        output = torch.matmul(h_neigh, self.W) + self.b\n",
    "        return output"
   ]
  },
  {
   "cell_type": "code",
   "execution_count": 26,
   "metadata": {},
   "outputs": [],
   "source": [
    "src = torch.tensor([0, 1, 1, 2, 2, 4])\n",
    "dst = torch.tensor([2, 0, 2, 3, 4, 3])\n",
    "h = torch.ones((5, 8))\n",
    "g = dgl.graph((src, dst))\n",
    "edge_weight = 2 * torch.ones(6)\n",
    "conv = DGL_conv(8, 4)\n",
    "output = conv(g, h, edge_weight)\n",
    "import numpy as np\n",
    "assert np.allclose(output.detach().numpy(), [[17., 17., 17., 17.],\n",
    "                      [ 1.,  1.,  1.,  1.],\n",
    "                      [33., 33., 33., 33.],\n",
    "                      [33., 33., 33., 33.],\n",
    "                      [17., 17., 17., 17.]])"
   ]
  },
  {
   "cell_type": "code",
   "execution_count": 27,
   "metadata": {},
   "outputs": [],
   "source": [
    "import torch\n",
    "import torch.nn as nn\n",
    "from torch_geometric.nn.conv import MessagePassing\n",
    "\n",
    "class PyG_conv(MessagePassing):\n",
    "    def __init__(self, in_channel, out_channel):\n",
    "        super(PyG_conv, self).__init__(aggr='add')\n",
    "        self.in_channel = in_channel\n",
    "        self.out_channel = out_channel\n",
    "        self.W = nn.Parameter(torch.ones((in_channel, out_channel)))\n",
    "        self.b = nn.Parameter(torch.ones(out_channel))\n",
    "\n",
    "    def forward(self, x, edge_index, edge_weight):\n",
    "        return self.propagate(edge_index, x=x, edge_weight=edge_weight)\n",
    "\n",
    "    def message(self, x_j, edge_weight):\n",
    "        return edge_weight.view(-1, 1) * x_j\n",
    "\n",
    "    def update(self, aggr_out):\n",
    "        return torch.matmul(aggr_out, self.W) + self.b\n"
   ]
  },
  {
   "cell_type": "code",
   "execution_count": 28,
   "metadata": {},
   "outputs": [],
   "source": [
    "import numpy as np\n",
    "edge_index = torch.tensor([[0,1,1,2,2,4],[2,0,2,3,4,3]])\n",
    "x = torch.ones((5, 8))\n",
    "edge_weight = 2 * torch.ones(6)\n",
    "conv = PyG_conv(8, 4)\n",
    "output = conv(x, edge_index, edge_weight)\n",
    "assert np.allclose(output.detach().numpy(), [[17., 17., 17., 17.],\n",
    "                      [ 1.,  1.,  1.,  1.],\n",
    "                      [33., 33., 33., 33.],\n",
    "                      [33., 33., 33., 33.],\n",
    "                      [17., 17., 17., 17.]])"
   ]
  }
 ],
 "metadata": {
  "kernelspec": {
   "display_name": "pytorch",
   "language": "python",
   "name": "pytorch"
  },
  "language_info": {
   "codemirror_mode": {
    "name": "ipython",
    "version": 3
   },
   "file_extension": ".py",
   "mimetype": "text/x-python",
   "name": "python",
   "nbconvert_exporter": "python",
   "pygments_lexer": "ipython3",
   "version": "3.8.18"
  }
 },
 "nbformat": 4,
 "nbformat_minor": 2
}
