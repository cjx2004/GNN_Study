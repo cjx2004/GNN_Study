{
 "cells": [
  {
   "cell_type": "markdown",
   "metadata": {
    "id": "YqM5Z7qKUgqS"
   },
   "source": [
    "In this week, you are required to implement a toy GATConv and SAGEConv based on document. Also, you need to implement both in PyG and DGL. In this work, you will get a further understanding of tensor-centric in PyG and graph-centric in DGL."
   ]
  },
  {
   "cell_type": "code",
   "execution_count": null,
   "metadata": {
    "id": "xeuAiMpRU719"
   },
   "outputs": [],
   "source": [
    "!pip install  dgl -f https://data.dgl.ai/wheels/repo.html\n",
    "!pip install torch_geometric\n",
    "!pip install pyg_lib torch_scatter torch_sparse torch_cluster torch_spline_conv -f https://data.pyg.org/whl/torch-2.0.1+cpu.html"
   ]
  },
  {
   "cell_type": "code",
   "execution_count": null,
   "metadata": {
    "id": "mclJkxgsUbRY"
   },
   "outputs": [],
   "source": [
    "import torch\n",
    "import numpy as np\n",
    "import torch.nn as nn\n",
    "import dgl\n",
    "import dgl.function as fn\n",
    "from torch_geometric.nn.conv import MessagePassing\n",
    "\n",
    "class PyG_GATConv(MessagePassing):\n",
    "  def __init__(self, in_channel, out_channel):\n",
    "\n",
    "  def forward(x, edge_index):\n",
    "\n",
    "  def message(x, edge_index):\n",
    "\n",
    "class PyG_SAGEConv(MessagePassing):\n",
    "  def __init__(self, in_channel, out_channel):\n",
    "\n",
    "  def forward(x, edge_index):\n",
    "\n",
    "  def message(x, edge_index):"
   ]
  },
  {
   "cell_type": "code",
   "execution_count": null,
   "metadata": {
    "id": "HbdLhvBSVYEr"
   },
   "outputs": [],
   "source": [
    "class DGL_GATConv(nn.Module):\n",
    "  def __init__(self, in_channel, out_channel):\n",
    "\n",
    "  def forward(self, g, h):\n",
    "\n",
    "class DGL_SAGEConv(nn.Module):\n",
    "  def __init__(self, in_channel, out_channel):\n",
    "\n",
    "  def forward(self, g, h):"
   ]
  },
  {
   "cell_type": "markdown",
   "metadata": {
    "id": "G955HzNxVjSu"
   },
   "source": [
    "If you want to check your answer, you can run the following code."
   ]
  },
  {
   "cell_type": "code",
   "execution_count": null,
   "metadata": {
    "id": "PKgfXLyLVwus"
   },
   "outputs": [],
   "source": [
    "edge_index = torch.tensor([[0,1,1,2,2,4],[2,0,2,3,4,3]])\n",
    "x = torch.ones((5, 8))\n",
    "conv = PyG_GATConv(8, 4)\n",
    "output = conv(x, edge_index)\n",
    "print(output)\n",
    "conv = PyG_SAGEConv(8, 4)\n",
    "output = conv(x, edge_index)\n",
    "print(output)\n",
    "\n",
    "src = torch.tensor([0, 1, 1, 2, 2, 4])\n",
    "dst = torch.tensor([2, 0, 2, 3, 4, 3])\n",
    "h = torch.ones((5, 8))\n",
    "g = dgl.graph((src, dst))\n",
    "conv = DGL_GATConv(8, 4)\n",
    "output = conv(g, h)\n",
    "print(output)\n",
    "conv = DGL_SAGEConv(8, 4)\n",
    "output = conv(g, h)\n",
    "print(output)"
   ]
  }
 ],
 "metadata": {
  "colab": {
   "provenance": []
  },
  "kernelspec": {
   "display_name": "Python 3",
   "language": "python",
   "name": "python3"
  },
  "language_info": {
   "codemirror_mode": {
    "name": "ipython",
    "version": 3
   },
   "file_extension": ".py",
   "mimetype": "text/x-python",
   "name": "python",
   "nbconvert_exporter": "python",
   "pygments_lexer": "ipython3",
   "version": "3.7.0"
  }
 },
 "nbformat": 4,
 "nbformat_minor": 1
}
