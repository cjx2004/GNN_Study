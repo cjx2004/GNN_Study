{
 "cells": [
  {
   "cell_type": "markdown",
   "metadata": {
    "id": "AlNTfUPr23ZK"
   },
   "source": [
    "In this work, you will use the APIs of PyG and DGL to implement some basic functions."
   ]
  },
  {
   "cell_type": "markdown",
   "metadata": {
    "id": "JaQosFNq8NdN"
   },
   "source": [
    "You need to run the following commands to install the GNN libraries (Only CPU version)."
   ]
  },
  {
   "cell_type": "code",
   "execution_count": null,
   "metadata": {
    "id": "WFIKyZRk8WRm"
   },
   "outputs": [],
   "source": [
    "!pip install  dgl -f https://data.dgl.ai/wheels/repo.html\n",
    "!pip install torch_geometric\n",
    "!pip install pyg_lib torch_scatter torch_sparse torch_cluster torch_spline_conv -f https://data.pyg.org/whl/torch-2.0.1+cpu.html"
   ]
  },
  {
   "cell_type": "markdown",
   "metadata": {
    "id": "aDRLr_Ot6-gE"
   },
   "source": [
    "The most popular GNN models can be written as follows:\n",
    "\n",
    "$$\n",
    "h_i^{(l+1)}=\\sigma(b^{(l)}+\\sum_{j\\in\\mathcal{N}(i)}e_{ij}h_j^{(l)}W^{(l)})\n",
    "$$\n",
    "\n",
    "where $h_i^{(l+1)}$ is the output feature, $\\sigma$ is the activation function, $e_{ij}$ is the edge weight, $W^{(l)}$ is the learnable parameters, $b^{(l)\n",
    "}$ is the bias.\n",
    "\n",
    "First, you will use the PyTorch-Geometric(PyG) to implement this convolution layer."
   ]
  },
  {
   "cell_type": "code",
   "execution_count": null,
   "metadata": {
    "id": "RAQfM5GS2qlv"
   },
   "outputs": [],
   "source": [
    "import torch\n",
    "import torch.nn as nn\n",
    "from torch_geometric.nn.conv import MessagePassing\n",
    "\n",
    "class PyG_conv(MessagePassing):\n",
    "  def __init__(\n",
    "      self,\n",
    "      in_channel,\n",
    "      out_channel,\n",
    "  ):\n",
    "    self.in_channel = in_channel\n",
    "    self.out_channel = out_channel\n",
    "    self.W = nn.Parameter(torch.ones((in_channel, out_channel)))\n",
    "    self.b = nn.Parameter(torch.ones(out_channel))\n",
    "\n",
    "  def forward(x, edge_index, edge_weight):\n",
    "    # Your code here\n",
    "    pass\n",
    "    # End code here\n",
    "\n",
    "  def message(x, edge_weight):\n",
    "    # Your code here\n",
    "    pass\n",
    "    # End code here\n"
   ]
  },
  {
   "cell_type": "markdown",
   "metadata": {
    "id": "xmxHSrJkH_xe"
   },
   "source": [
    "You may run the following code to check the correctness."
   ]
  },
  {
   "cell_type": "code",
   "execution_count": null,
   "metadata": {
    "id": "ov24C3_hH-Sc"
   },
   "outputs": [],
   "source": [
    "import numpy as np\n",
    "edge_index = torch.tensor([[0,1,1,2,2,4],[2,0,2,3,4,3]])\n",
    "x = torch.ones((5, 8))\n",
    "edge_weight = 2 * torch.ones(6)\n",
    "conv = PyG_conv(8, 4)\n",
    "output = conv(x, edge_index, edge_weight)\n",
    "assert np.allclose(output.detach().numpy(), [[17., 17., 17., 17.],\n",
    "                      [ 1.,  1.,  1.,  1.],\n",
    "                      [33., 33., 33., 33.],\n",
    "                      [33., 33., 33., 33.],\n",
    "                      [17., 17., 17., 17.]])"
   ]
  },
  {
   "cell_type": "markdown",
   "metadata": {
    "id": "6Ou03H2BOdoE"
   },
   "source": [
    "Now, you will implement the same functions with DGL."
   ]
  },
  {
   "cell_type": "code",
   "execution_count": null,
   "metadata": {
    "id": "eK5wT_h9Oh6S"
   },
   "outputs": [],
   "source": [
    "import dgl\n",
    "import dgl.function as fn\n",
    "\n",
    "class DGL_conv(nn.Module):\n",
    "  def __init__(self, in_channel, out_channel):\n",
    "    self.in_channel = in_channel\n",
    "    self.out_channel = out_channel\n",
    "    self.W = nn.Parameter(torch.ones(in_channel, out_channel))\n",
    "    self.b = nn.Parameter(torch.ones(out_channel))\n",
    "\n",
    "  def forward(self, g, h):\n",
    "    # Your code here\n",
    "    pass\n",
    "    # End code here"
   ]
  },
  {
   "cell_type": "markdown",
   "metadata": {
    "id": "D3YW_vmbT_SC"
   },
   "source": [
    "Also, you can also run the code below to check the correctness."
   ]
  },
  {
   "cell_type": "code",
   "execution_count": null,
   "metadata": {
    "id": "dp1e8tejUFlS"
   },
   "outputs": [],
   "source": [
    "src = torch.tensor([0, 1, 1, 2, 2, 4])\n",
    "dst = torch.tensor([2, 0, 2, 3, 4, 3])\n",
    "h = torch.ones((5, 8))\n",
    "g = dgl.graph((src, dst))\n",
    "edge_weight = 2 * torch.ones(6)\n",
    "conv = DGL_conv(8, 4)\n",
    "output = conv(g, h, edge_weight)\n",
    "import numpy as np\n",
    "assert np.allclose(output.detach().numpy(), [[17., 17., 17., 17.],\n",
    "                      [ 1.,  1.,  1.,  1.],\n",
    "                      [33., 33., 33., 33.],\n",
    "                      [33., 33., 33., 33.],\n",
    "                      [17., 17., 17., 17.]])"
   ]
  }
 ],
 "metadata": {
  "colab": {
   "provenance": []
  },
  "kernelspec": {
   "display_name": "Python 3",
   "language": "python",
   "name": "python3"
  },
  "language_info": {
   "codemirror_mode": {
    "name": "ipython",
    "version": 3
   },
   "file_extension": ".py",
   "mimetype": "text/x-python",
   "name": "python",
   "nbconvert_exporter": "python",
   "pygments_lexer": "ipython3",
   "version": "3.7.0"
  }
 },
 "nbformat": 4,
 "nbformat_minor": 1
}
