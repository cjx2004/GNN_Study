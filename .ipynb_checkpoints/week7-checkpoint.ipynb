{
 "cells": [
  {
   "cell_type": "markdown",
   "metadata": {
    "id": "_AfnlcwOWS5l"
   },
   "source": [
    "In this work, you are required to build a GNN training pipline. Then you can truly use the Graph Neural Network."
   ]
  },
  {
   "cell_type": "code",
   "execution_count": null,
   "metadata": {
    "id": "vRF9LJlcGy7B"
   },
   "outputs": [],
   "source": []
  },
  {
   "cell_type": "code",
   "execution_count": null,
   "metadata": {
    "id": "7H0-sw8zbcrn"
   },
   "outputs": [],
   "source": [
    "!pip install  dgl -f https://data.dgl.ai/wheels/repo.html\n",
    "!pip install torch_geometric\n",
    "!pip install pyg_lib torch_scatter torch_sparse torch_cluster torch_spline_conv -f https://data.pyg.org/whl/torch-2.0.1+cpu.html"
   ]
  },
  {
   "cell_type": "markdown",
   "metadata": {
    "id": "Ex3YFUE3Whks"
   },
   "source": [
    "First, we need to download the dataset and load data."
   ]
  },
  {
   "cell_type": "code",
   "execution_count": null,
   "metadata": {
    "id": "jLg7RaF6WRTt"
   },
   "outputs": [],
   "source": [
    "import torch_geometric.transforms as T\n",
    "from torch_geometric.datasets import Planetoid\n",
    "dataset = Planetoid(\"./\", \"Cora\", transform=T.NormalizeFeatures())\n",
    "data = dataset[0]\n",
    "\n",
    "x = data.x\n",
    "edge_index = data.edge_index\n",
    "edge_weight = data.edge_weight"
   ]
  },
  {
   "cell_type": "markdown",
   "metadata": {
    "id": "0MA85AI9b8yX"
   },
   "source": [
    "Then, you need to implement a GNN model. You may copy the GCNConv from your work two weeks ago, and build the model with the convolution layers."
   ]
  },
  {
   "cell_type": "code",
   "execution_count": null,
   "metadata": {
    "id": "B4La5uI1cQQA"
   },
   "outputs": [],
   "source": [
    "from torch_geometric.nn import MessagePassing\n",
    "import torch.nn as nn\n",
    "class PyG_GCNConv(MessagePassing):\n",
    "  # Your code here\n",
    "  pass\n",
    "  # End code here\n",
    "\n",
    "class PyG_GCN(nn.Module):\n",
    "  # Your code here\n",
    "  pass\n",
    "  # End code here"
   ]
  },
  {
   "cell_type": "markdown",
   "metadata": {
    "id": "Wz1whBYkcdtx"
   },
   "source": [
    "Building the training and evaluation part, this is similar to the work in week4. Our downstream task is just node classification."
   ]
  },
  {
   "cell_type": "code",
   "execution_count": null,
   "metadata": {
    "id": "aMlTRvwGcmFw"
   },
   "outputs": [],
   "source": [
    "from torch_geometric.logging import log\n",
    "# Build your training pipeline\n",
    "hidden_dim = 16\n",
    "lr = 0.001\n",
    "epochs = 100\n",
    "model = PyG_GCN(dataset.num_features, hidden_dim, dataset.num_classes)\n",
    "optimizer = torch.optim.Adam(\n",
    "    dict(params=modelparameters(), weight_decay=5e-4),\n",
    ", lr=lr)\n",
    "\n",
    "def train():\n",
    "  # Your code here\n",
    "  pass\n",
    "  # End code here\n",
    "@torch.no_grad()\n",
    "def test():\n",
    "  model.eval()\n",
    "  pred = model(data.x, data.edge_index, data.edge_weight).argmax(dim=-1)\n",
    "\n",
    "  accs = []\n",
    "  for mask in [data.train_mask, data.val_mask, data.test_mask]:\n",
    "      accs.append(int((pred[mask] == data.y[mask]).sum()) / int(mask.sum()))\n",
    "  return accs\n",
    "\n",
    "for epoch in range(1, epochs + 1):\n",
    "  loss = train()\n",
    "  train_acc, val_acc, tmp_test_acc = test()\n",
    "  if val_acc > best_val_acc:\n",
    "      best_val_acc = val_acc\n",
    "      test_acc = tmp_test_acc\n",
    "  log(Epoch=epoch, Loss=loss, Train=train_acc, Val=val_acc, Test=test_acc)"
   ]
  },
  {
   "cell_type": "markdown",
   "metadata": {
    "id": "4pav74NceOl5"
   },
   "source": [
    "Now, you can train the GCN model with PyG. Next, you may try using the DGL to implement the similiar function."
   ]
  },
  {
   "cell_type": "code",
   "execution_count": null,
   "metadata": {
    "id": "eNDS5VDreXgC"
   },
   "outputs": [],
   "source": [
    "import argparse\n",
    "\n",
    "import dgl\n",
    "import dgl.nn as dglnn\n",
    "\n",
    "import torch\n",
    "import torch.nn as nn\n",
    "import torch.nn.functional as F\n",
    "from dgl import AddSelfLoop\n",
    "from dgl.data import CoraGraphDataset\n",
    "\n",
    "transform = (\n",
    "        AddSelfLoop()\n",
    "    )\n",
    "data = CoraGraphDataset(transform=transform)\n",
    "g = data[0]\n",
    "features = g.ndata[\"feat\"]\n",
    "labels = g.ndata[\"label\"]\n",
    "masks = g.ndata[\"train_mask\"], g.ndata[\"val_mask\"], g.ndata[\"test_mask\"]\n",
    "\n",
    "\n",
    "class DGL_GCNConv(nn.Module):\n",
    "  # Your code here\n",
    "  pass\n",
    "  # End code here\n",
    "\n",
    "class DGL_GCN(nn.Module):\n",
    "  # Your code here\n",
    "  pass\n",
    "  # End code here\n",
    "\n",
    "def train(g, features, labels, masks, model):\n",
    "  # Your code here\n",
    "  pass\n",
    "  # End code here\n",
    "\n",
    "def evaluate(g, features, labels, mask, model):\n",
    "  model.eval()\n",
    "  with torch.no_grad():\n",
    "    logits = model(g, features)\n",
    "    logits = logits[mask]\n",
    "    labels = labels[mask]\n",
    "    _, indices = torch.max(logits, dim=1)\n",
    "    correct = torch.sum(indices == labels)\n",
    "    return correct.item() * 1.0 / len(labels)\n",
    "\n",
    "model = DGL_GCN(features.shape[1], 16)\n",
    "print(\"Training...\")\n",
    "train(g, features, labels, masks, model)\n",
    "\n",
    "# test the model\n",
    "print(\"Testing...\")\n",
    "acc = evaluate(g, features, labels, masks[2], model)\n",
    "print(\"Test accuracy {:.4f}\".format(acc))"
   ]
  },
  {
   "cell_type": "markdown",
   "metadata": {
    "id": "nG3acaBaf0Uj"
   },
   "source": [
    "If you find it hard to implement, you may refer to the official implementation of the GNN training, like [PyG](https://github.com/pyg-team/pytorch_geometric/blob/master/examples/gcn.py) and [DGL](https://github.com/dmlc/dgl/blob/master/examples/pytorch/gcn/train.py)."
   ]
  }
 ],
 "metadata": {
  "colab": {
   "provenance": []
  },
  "kernelspec": {
   "display_name": "Python 3",
   "language": "python",
   "name": "python3"
  },
  "language_info": {
   "codemirror_mode": {
    "name": "ipython",
    "version": 3
   },
   "file_extension": ".py",
   "mimetype": "text/x-python",
   "name": "python",
   "nbconvert_exporter": "python",
   "pygments_lexer": "ipython3",
   "version": "3.7.0"
  }
 },
 "nbformat": 4,
 "nbformat_minor": 1
}
