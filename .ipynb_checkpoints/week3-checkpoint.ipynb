{
 "cells": [
  {
   "cell_type": "markdown",
   "metadata": {
    "id": "C_LqSe6BOIMO"
   },
   "source": [
    "In this work, you are required to implement an easy linear regression with machine learning methods based on numpy. It is better not to use the deep learning libraries such as PyTorch or Tensorflow .etc."
   ]
  },
  {
   "cell_type": "markdown",
   "metadata": {
    "id": "jOJEgBOHTwG5"
   },
   "source": [
    "The first is the data generation. We can generate data that follows a linear distribution with the following functions."
   ]
  },
  {
   "cell_type": "code",
   "execution_count": 1,
   "metadata": {
    "id": "Z5aJpqiDNvj8"
   },
   "outputs": [],
   "source": [
    "import numpy as np\n",
    "def get_data(num):\n",
    "  for _ in range(num):\n",
    "    x = np.random.uniform(-10.0, 10.0)\n",
    "    noise = np.random.normal(0, 1)\n",
    "    y = x * 2 + 1 + noise\n",
    "    yield np.array([x]).astype(np.float32), np.array([y]).astype(np.float32)\n",
    "\n",
    "x = np.array([])\n",
    "y = np.array([])\n",
    "for x0, y0 in get_data(1000):\n",
    "  x = np.append(x, x0)\n",
    "  y = np.append(y, y0)"
   ]
  },
  {
   "cell_type": "markdown",
   "metadata": {
    "id": "HwsYNcPpVrog"
   },
   "source": [
    "The following is setting the hyperparameters, and the initialization of the learnable parameters."
   ]
  },
  {
   "cell_type": "code",
   "execution_count": 2,
   "metadata": {
    "id": "tpmidqWHV7st"
   },
   "outputs": [],
   "source": [
    "learn_rate = 0.00001\n",
    "epochs = 100\n",
    "display_step = 10\n",
    "np.random.seed(0)\n",
    "w = np.random.rand()\n",
    "b = np.random.rand()"
   ]
  },
  {
   "cell_type": "markdown",
   "metadata": {
    "id": "XoLQ2KCMWKz-"
   },
   "source": [
    "So, you only need to write the code to train the learnable parameters w and b. We recommend you use the mean square error function."
   ]
  },
  {
   "cell_type": "code",
   "execution_count": null,
   "metadata": {
    "id": "bKv5Se1tWmVY"
   },
   "outputs": [],
   "source": [
    "for epoch in range(epochs):\n",
    "  # Your code here\n",
    "  import numpy as np\n",
    "\n",
    "def mean_squared_error(y_true, y_pred):\n",
    "    return np.mean(np.square(y_true - y_pred))\n",
    "\n",
    "def gradient_descent(x, y, w, b, learning_rate):\n",
    "    num_samples = x.shape[0]\n",
    "    # 计算预测值\n",
    "    y_pred = np.dot(x, w) + b\n",
    "    # 计算损失函数对w和b的偏导数\n",
    "    dw = (1/num_samples) * np.dot(x.T, (y_pred - y))\n",
    "    db = (1/num_samples) * np.sum(y_pred - y)\n",
    "    # 更新权重和偏置\n",
    "    w -= learning_rate * dw\n",
    "    b -= learning_rate * db\n",
    "    return w, b\n",
    "\n",
    "# 将生成的数据合并成矩阵形式\n",
    "X = x.reshape(-1, 1)\n",
    "Y = y.reshape(-1, 1)\n",
    "\n",
    "# 初始化权重和偏置\n",
    "w = np.random.rand(1, 1)\n",
    "b = np.random.rand()\n",
    "\n",
    "# 训练模型\n",
    "for epoch in range(epochs):\n",
    "    # 打乱数据集\n",
    "    permutation = np.random.permutation(X.shape[0])\n",
    "    X_shuffled = X[permutation]\n",
    "    Y_shuffled = Y[permutation]\n",
    "    for i in range(X.shape[0]):\n",
    "        w, b = gradient_descent(X_shuffled[i:i+1], Y_shuffled[i:i+1], w, b, learn_rate)\n",
    "    # 每隔display_step次迭代输出一次损失\n",
    "    if (epoch+1) % display_step == 0:\n",
    "        y_pred = np.dot(X, w) + b\n",
    "        loss = mean_squared_error(Y, y_pred)\n",
    "        print(\"Epoch:\", epoch+1, \"Loss:\", loss)\n",
    "\n",
    "# 可视化结果\n",
    "import matplotlib.pyplot as plt\n",
    "\n",
    "plt.scatter(x, y, label='Original data')\n",
    "plt.plot(x, np.dot(X, w) + b, color='red', label='Fitted line')\n",
    "plt.xlabel('X')\n",
    "plt.ylabel('Y')\n",
    "plt.legend()\n",
    "plt.show()\n",
    "\n",
    "  # End your code"
   ]
  }
 ],
 "metadata": {
  "colab": {
   "provenance": []
  },
  "kernelspec": {
   "display_name": "Python 3",
   "language": "python",
   "name": "python3"
  },
  "language_info": {
   "codemirror_mode": {
    "name": "ipython",
    "version": 3
   },
   "file_extension": ".py",
   "mimetype": "text/x-python",
   "name": "python",
   "nbconvert_exporter": "python",
   "pygments_lexer": "ipython3",
   "version": "3.7.0"
  }
 },
 "nbformat": 4,
 "nbformat_minor": 1
}
