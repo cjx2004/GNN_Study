{
 "cells": [
  {
   "cell_type": "markdown",
   "metadata": {
    "id": "hazStIkOOaYx"
   },
   "source": [
    "In this work, you need to do data processing with some python libraries like Numpy and Pandas. Detail descriptions will be found in the folowing code blocks."
   ]
  },
  {
   "cell_type": "markdown",
   "metadata": {
    "id": "2FTSJYWdbiFT"
   },
   "source": [
    "In this part, you need to follow the instructions and implement the functions with numpy. You should use the following normalize function:\n",
    "\n",
    "$$\n",
    "x_i = \\frac{x_i}{\\sqrt{\\sum_{j=1}x_j^2}}\n",
    "$$"
   ]
  },
  {
   "cell_type": "code",
   "execution_count": 4,
   "metadata": {
    "id": "upFEumqSbtdD"
   },
   "outputs": [],
   "source": [
    "def add(x, y):\n",
    "  \"\"\"A basic add function to add ``numpy.array`` or python numbers.\n",
    "  For example: the output of add(5.3, 2) is 7.3.\n",
    "\n",
    "  Parameters\n",
    "  ----------\n",
    "  x: python number or numpy.array\n",
    "  y: python number or numpy.array\n",
    "\n",
    "  Returns\n",
    "  -------\n",
    "  z: python number or numpy.array\n",
    "\n",
    "  \"\"\"\n",
    "  # Your code here\n",
    "  z = x + y\n",
    "  return z\n",
    "\n",
    "  # End code here"
   ]
  },
  {
   "cell_type": "code",
   "execution_count": 5,
   "metadata": {
    "id": "BmCOeqwkdOWS"
   },
   "outputs": [],
   "source": [
    "import numpy as np\n",
    "def norm(matrix, axis=0):\n",
    "    \"\"\"A function to normalize a certain dimension of a matrix.\n",
    "    You should calculate using the follwing equation:\n",
    "\n",
    "    .. math::\n",
    "      x_i = \\frac{x_i}{\\\\sqrt{\\\\sum_{j=1}x_j^2}}\n",
    "\n",
    "    For example, if we input a matrix: np.array([[1,1,1,1],[2,2,2,2]]) and axis = 1,\n",
    "    we will get a output matrix: np.array([[0.5,0.5,0.5,0.5],[0.5,0.5,0.5,0.5]])\n",
    "\n",
    "    Parameters\n",
    "    ----------\n",
    "    matrix: numpy.array\n",
    "      The input matrix of two dimensions.\n",
    "\n",
    "    Returns\n",
    "    -------\n",
    "    matrix: numpy.array\n",
    "      The normalized matrix\n",
    "    \"\"\"\n",
    "    # Your code here\n",
    "    if axis == 0:\n",
    "        matrix_norm = np.sqrt(np.sum(matrix ** 2, axis=axis))\n",
    "        matrix = matrix / matrix_norm\n",
    "    elif axis == 1:\n",
    "        matrix_norm = np.sqrt(np.sum(matrix ** 2, axis=axis, keepdims=True))\n",
    "        matrix = matrix / matrix_norm\n",
    "    else:\n",
    "        raise ValueError(\"error\")\n",
    "\n",
    "    return matrix\n",
    "\n",
    "\n",
    "# End code here"
   ]
  },
  {
   "cell_type": "markdown",
   "metadata": {
    "id": "uxPfLNdgbUDa"
   },
   "source": [
    "Run the following code to get the dataset of this work."
   ]
  },
  {
   "cell_type": "code",
   "execution_count": 3,
   "metadata": {
    "colab": {
     "base_uri": "https://localhost:8080/"
    },
    "id": "-IvlQTfyOX_v",
    "outputId": "99a975d4-9a15-4d84-c484-d68e70bc6b7b"
   },
   "outputs": [],
   "source": [
    "# from google.colab import drive\n",
    "# drive.mount('/content/drive')\n",
    "# %cd /content/drive/MyDrive/\n",
    "# !mkdir -p week2\n",
    "# %cd /content/drive/MyDrive/week2\n",
    "# !git clone https://github.com/dddg617/interns\n",
    "# %cd /content/drive/MyDrive/week2/interns/weekly work/week2/data"
   ]
  },
  {
   "cell_type": "markdown",
   "metadata": {
    "id": "eu30340TfvrS"
   },
   "source": [
    "Try to use pandas to load the dataset \"dataset2.csv\", and process it following the instructrons in docstrings."
   ]
  },
  {
   "cell_type": "code",
   "execution_count": 24,
   "metadata": {
    "id": "Jwp1Gh2Tf2RH"
   },
   "outputs": [],
   "source": [
    "\n",
    "\n",
    "def load_data():\n",
    "    \"\"\"1. In this function, you should load the dataset named \"dataset2.csv\".\n",
    "    2. You need to remove the rows contain empty data.\n",
    "    Suppose the number of rows is ``R``.\n",
    "    3. You need to process the abnormal data that has \"_\".\n",
    "    For example, you should replace \"101_\" with \"101\".\n",
    "    4. You should calculate the average number of each column.\n",
    "    The outcome should be added to the original \"DataFrame\".\n",
    "    That means, the number of columns you return should be ``R+1``.\n",
    "\n",
    "    Returns\n",
    "    -------\n",
    "    data: pandas.DataFrame\n",
    "      The processed data following the instructions.\n",
    "\n",
    "    \"\"\"\n",
    "    # Your code here\n",
    "    try:\n",
    "        data = pd.read_csv(\"dataset2.csv\")\n",
    "    except FileNotFoundError:\n",
    "        print(\"Wrong\")\n",
    "        return None\n",
    "\n",
    "    \n",
    "    data = data.replace(regex=r'_', value='')\n",
    "    data = data.apply(pd.to_numeric, errors='coerce')\n",
    "    data = data.dropna()\n",
    "\n",
    "    df = pd.DataFrame(data)\n",
    "\n",
    "    data_mean = df.mean()\n",
    "    data.loc['mean'] = data_mean\n",
    "\n",
    "    # End code here\n",
    "    return data\n"
   ]
  },
  {
   "cell_type": "markdown",
   "metadata": {
    "id": "WmTdza14i3gr"
   },
   "source": [
    "After you implement these functions, you may run the following code to check your answer."
   ]
  },
  {
   "cell_type": "code",
   "execution_count": 25,
   "metadata": {
    "id": "-bqRtnnPi9Ki"
   },
   "outputs": [],
   "source": [
    "assert add(5,6) == 11\n",
    "assert add(3.2,1.0) == 4.2\n",
    "assert type(add(4., 4)) == float\n",
    "np.testing.assert_allclose(add(np.array([1,2]), np.array([3,4])),\n",
    "                np.array([4,6]))\n",
    "\n",
    "data = np.array([[2, 4, 6], [1, 3, 5], [3, 6, 9]])\n",
    "normalized_data = norm(data, axis=1)\n",
    "assert np.allclose(normalized_data, [[0.26726124, 0.53452248, 0.80178373],\n",
    "                    [0.16903085, 0.50709255, 0.84515425],\n",
    "                    [0.26726124, 0.53452248, 0.80178373]])\n",
    "\n",
    "data = load_data()\n",
    "#assert len(data) == 327\n",
    "for column in data.columns:\n",
    "  assert np.allclose(data.values[-1], [293734.71875, 1.9938838481903076, 29.373088836669922,\n",
    "                      9.994159698486328, 1739.4874267578125, 794.76171875, 388.9890441894531])"
   ]
  },
  {
   "cell_type": "code",
   "execution_count": null,
   "metadata": {},
   "outputs": [],
   "source": []
  }
 ],
 "metadata": {
  "colab": {
   "provenance": []
  },
  "kernelspec": {
   "display_name": "Python 3",
   "language": "python",
   "name": "python3"
  },
  "language_info": {
   "codemirror_mode": {
    "name": "ipython",
    "version": 3
   },
   "file_extension": ".py",
   "mimetype": "text/x-python",
   "name": "python",
   "nbconvert_exporter": "python",
   "pygments_lexer": "ipython3",
   "version": "3.7.0"
  }
 },
 "nbformat": 4,
 "nbformat_minor": 1
}
