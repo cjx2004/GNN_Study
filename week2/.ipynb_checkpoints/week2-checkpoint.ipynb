{
 "cells": [
  {
   "cell_type": "markdown",
   "metadata": {
    "id": "hazStIkOOaYx"
   },
   "source": [
    "In this work, you need to do data processing with some python libraries like Numpy and Pandas. Detail descriptions will be found in the folowing code blocks."
   ]
  },
  {
   "cell_type": "markdown",
   "metadata": {
    "id": "2FTSJYWdbiFT"
   },
   "source": [
    "In this part, you need to follow the instructions and implement the functions with numpy. You should use the following normalize function:\n",
    "\n",
    "$$\n",
    "x_i = \\frac{x_i}{\\sqrt{\\sum_{j=1}x_j^2}}\n",
    "$$"
   ]
  },
  {
   "cell_type": "code",
   "execution_count": 4,
   "metadata": {
    "id": "upFEumqSbtdD"
   },
   "outputs": [],
   "source": [
    "def add(x, y):\n",
    "  \"\"\"A basic add function to add ``numpy.array`` or python numbers.\n",
    "  For example: the output of add(5.3, 2) is 7.3.\n",
    "\n",
    "  Parameters\n",
    "  ----------\n",
    "  x: python number or numpy.array\n",
    "  y: python number or numpy.array\n",
    "\n",
    "  Returns\n",
    "  -------\n",
    "  z: python number or numpy.array\n",
    "\n",
    "  \"\"\"\n",
    "  # Your code here\n",
    "  z = x + y\n",
    "  return z\n",
    "\n",
    "  # End code here"
   ]
  },
  {
   "cell_type": "code",
   "execution_count": 5,
   "metadata": {
    "id": "BmCOeqwkdOWS"
   },
   "outputs": [],
   "source": [
    "import numpy as np\n",
    "def norm(matrix, axis=0):\n",
    "    \"\"\"A function to normalize a certain dimension of a matrix.\n",
    "    You should calculate using the follwing equation:\n",
    "\n",
    "    .. math::\n",
    "      x_i = \\frac{x_i}{\\\\sqrt{\\\\sum_{j=1}x_j^2}}\n",
    "\n",
    "    For example, if we input a matrix: np.array([[1,1,1,1],[2,2,2,2]]) and axis = 1,\n",
    "    we will get a output matrix: np.array([[0.5,0.5,0.5,0.5],[0.5,0.5,0.5,0.5]])\n",
    "\n",
    "    Parameters\n",
    "    ----------\n",
    "    matrix: numpy.array\n",
    "      The input matrix of two dimensions.\n",
    "\n",
    "    Returns\n",
    "    -------\n",
    "    matrix: numpy.array\n",
    "      The normalized matrix\n",
    "    \"\"\"\n",
    "    # Your code here\n",
    "    if axis == 0:\n",
    "        matrix_norm = np.sqrt(np.sum(matrix ** 2, axis=axis))\n",
    "        matrix = matrix / matrix_norm\n",
    "    elif axis == 1:\n",
    "        matrix_norm = np.sqrt(np.sum(matrix ** 2, axis=axis, keepdims=True))\n",
    "        matrix = matrix / matrix_norm\n",
    "    else:\n",
    "        raise ValueError(\"error\")\n",
    "\n",
    "    return matrix\n",
    "\n",
    "\n",
    "# End code here"
   ]
  },
  {
   "cell_type": "markdown",
   "metadata": {
    "id": "uxPfLNdgbUDa"
   },
   "source": [
    "Run the following code to get the dataset of this work."
   ]
  },
  {
   "cell_type": "code",
   "execution_count": 3,
   "metadata": {
    "colab": {
     "base_uri": "https://localhost:8080/"
    },
    "id": "-IvlQTfyOX_v",
    "outputId": "99a975d4-9a15-4d84-c484-d68e70bc6b7b"
   },
   "outputs": [],
   "source": [
    "# from google.colab import drive\n",
    "# drive.mount('/content/drive')\n",
    "# %cd /content/drive/MyDrive/\n",
    "# !mkdir -p week2\n",
    "# %cd /content/drive/MyDrive/week2\n",
    "# !git clone https://github.com/dddg617/interns\n",
    "# %cd /content/drive/MyDrive/week2/interns/weekly work/week2/data"
   ]
  },
  {
   "cell_type": "markdown",
   "metadata": {
    "id": "eu30340TfvrS"
   },
   "source": [
    "Try to use pandas to load the dataset \"dataset2.csv\", and process it following the instructrons in docstrings."
   ]
  },
  {
   "cell_type": "code",
   "execution_count": 12,
   "metadata": {
    "id": "Jwp1Gh2Tf2RH"
   },
   "outputs": [],
   "source": [
    "\n",
    "\n",
    "def load_data():\n",
    "    \"\"\"1. In this function, you should load the dataset named \"dataset2.csv\".\n",
    "    2. You need to remove the rows contain empty data.\n",
    "    Suppose the number of rows is ``R``.\n",
    "    3. You need to process the abnormal data that has \"_\".\n",
    "    For example, you should replace \"101_\" with \"101\".\n",
    "    4. You should calculate the average number of each column.\n",
    "    The outcome should be added to the original \"DataFrame\".\n",
    "    That means, the number of columns you return should be ``R+1``.\n",
    "\n",
    "    Returns\n",
    "    -------\n",
    "    data: pandas.DataFrame\n",
    "      The processed data following the instructions.\n",
    "\n",
    "    \"\"\"\n",
    "    # Your code here\n",
    "    try:\n",
    "        data = pd.read_csv(\"dataset2.csv\")\n",
    "    except FileNotFoundError:\n",
    "        print(\"Wrong\")\n",
    "        return None\n",
    "\n",
    "    data = data.dropna()\n",
    "    data = data.replace(regex=r'_', value='')\n",
    "    # 统计 NaN 数量\n",
    "    nan_count = data.isna().sum().sum()\n",
    "\n",
    "    print(\"NaN 数量:\", nan_count)\n",
    "    data = data.apply(pd.to_numeric, errors='coerce')\n",
    "\n",
    "    # 将 NaN 值替换为 0\n",
    "    data = data.fillna(0)\n",
    "\n",
    "    print(data)\n",
    "    print(data.dtypes)\n",
    "    df = pd.DataFrame(data)\n",
    "\n",
    "    data_mean = df.mean()\n",
    "    data.loc['mean'] = data_mean\n",
    "\n",
    "    # End code here\n",
    "    return data\n"
   ]
  },
  {
   "cell_type": "markdown",
   "metadata": {
    "id": "WmTdza14i3gr"
   },
   "source": [
    "After you implement these functions, you may run the following code to check your answer."
   ]
  },
  {
   "cell_type": "code",
   "execution_count": 13,
   "metadata": {
    "id": "-bqRtnnPi9Ki"
   },
   "outputs": [
    {
     "name": "stdout",
     "output_type": "stream",
     "text": [
      "     Annual_Income  Num_of_Loan  Num_of_Delayed_Payment  Changed_Credit_Limit  \\\n",
      "0     3.163354e+04            3                       6                 12.70   \n",
      "1     3.344644e+04            6                      19                 22.45   \n",
      "3     6.093813e+04            8                      18                 12.49   \n",
      "4     7.305716e+04            2                      14                 10.00   \n",
      "6     6.284888e+04            5                      19                 15.34   \n",
      "7     2.020427e+04         -100                       9                 16.50   \n",
      "8     9.431205e+04            1                      11                  0.53   \n",
      "9     1.828391e+04            6                      20                  3.87   \n",
      "10    7.215280e+04            3                       8                  9.04   \n",
      "12    9.042999e+04            1                      -1                  8.25   \n",
      "13    3.476712e+04            6                      16                  8.79   \n",
      "14    9.670150e+03            5                      22                  3.06   \n",
      "15    1.297804e+05            4                      20                 11.25   \n",
      "16    3.676086e+04            5                      13                 21.76   \n",
      "17    1.623790e+07            2                       8                  6.38   \n",
      "18    7.336636e+04            8                      16                 23.68   \n",
      "20    2.892203e+04            0                       8                 11.99   \n",
      "21    1.941589e+04            3                      18                 10.87   \n",
      "22    1.651887e+04            9                      18                  5.00   \n",
      "24    9.183320e+03            6                      20                  2.81   \n",
      "25    3.259932e+04            1                       6                  9.61   \n",
      "26    1.632556e+05            3                       8                 11.22   \n",
      "27    7.580494e+04            3                       8                  7.89   \n",
      "28    1.548889e+04            0                       0                  1.38   \n",
      "29    2.059048e+04         -100                      21                  7.85   \n",
      "30    1.950673e+04            6                      18                  2.69   \n",
      "31    3.246929e+04            0                       7                  1.39   \n",
      "32    7.106150e+03            3                      21                  3.66   \n",
      "33    4.559508e+04            6                      23                 26.28   \n",
      "34    1.132388e+05            2                       2                 10.99   \n",
      "..             ...          ...                     ...                   ...   \n",
      "354   8.952155e+03            2                       9                 11.26   \n",
      "355   1.781675e+04            9                      27                  1.60   \n",
      "356   1.533577e+04            2                      20                 17.00   \n",
      "357   7.224102e+04            1                      12                  0.67   \n",
      "358   5.710744e+04            4                      13                 21.42   \n",
      "359   1.185099e+04            4                      10                  0.00   \n",
      "360   7.077918e+04         -100                      -2                  3.61   \n",
      "361   6.017493e+04            5                      19                  9.18   \n",
      "362   4.158874e+04            2                       8                 10.95   \n",
      "363   1.749783e+04            4                      15                  8.13   \n",
      "364   7.476686e+04            3                      11                  3.82   \n",
      "365   3.890452e+04            7                      18                 14.95   \n",
      "366   3.198014e+04            6                      18                 18.21   \n",
      "368   1.427258e+05            0                      11                 10.22   \n",
      "369   4.692957e+04            5                      12                 12.29   \n",
      "370   2.099562e+04            1                       5                  4.57   \n",
      "371   1.274400e+04            2                      12                  7.22   \n",
      "373   3.325420e+04            0                       2                  9.94   \n",
      "374   4.429554e+04            2                      18                  0.00   \n",
      "375   4.512738e+04            9                      26                  3.03   \n",
      "376   7.103035e+03            6                      14                 11.95   \n",
      "377   8.264750e+03            5                      18                  1.35   \n",
      "378   5.811006e+04            6                      16                  6.26   \n",
      "379   1.791036e+04            6                       8                  8.13   \n",
      "380   4.164448e+04            8                      19                  4.77   \n",
      "381   1.830954e+04            2                      11                 18.15   \n",
      "382   8.176000e+04            3                      21                  4.71   \n",
      "383   1.820757e+04         -100                      18                  9.70   \n",
      "384   7.816272e+04            4                      22                  3.28   \n",
      "385   3.694192e+04            9                      16                  6.74   \n",
      "\n",
      "     Outstanding_Debt  Amount_invested_monthly  Monthly_Balance  \n",
      "0              846.45               275.759795       246.484598  \n",
      "1             2953.68                93.650442       348.813987  \n",
      "3             3947.24               166.487676       231.525400  \n",
      "4             2569.09                66.232154       692.223325  \n",
      "6             2680.87               206.017262       317.267904  \n",
      "7              335.04                77.279445       369.910800  \n",
      "8              118.80               616.888909       361.976929  \n",
      "9             2521.40                74.865187       335.179529  \n",
      "10             847.35               129.752733       543.414034  \n",
      "12            1127.26               581.732829       391.962420  \n",
      "13            2084.72                85.998307       291.240306  \n",
      "14            3566.81                63.431859       264.632981  \n",
      "15            1163.57               682.299132       450.913799  \n",
      "16            3596.56               100.108544       294.996536  \n",
      "17            1217.99               507.485026       355.284451  \n",
      "18            4029.36               187.083129       372.634664  \n",
      "20            1329.59                42.851329       461.965587  \n",
      "21            2493.12                45.895579       341.633105  \n",
      "22            2504.31                50.908325       261.343746  \n",
      "24            2032.49                75.332091       258.194816  \n",
      "25            1331.03                64.777098       402.651114  \n",
      "26             422.76               550.624236       724.089926  \n",
      "27             330.82                51.867242       658.851143  \n",
      "28            1287.59               155.223244       262.150797  \n",
      "29            2097.73                34.629420       256.174251  \n",
      "30            1594.83                77.089665       292.932377  \n",
      "31             129.41                94.238290       429.639127  \n",
      "32            2688.12                40.911819       298.730243  \n",
      "33            2723.10               142.251683       324.523368  \n",
      "34             115.48               367.801573       689.072877  \n",
      "..                ...                      ...              ...  \n",
      "354           2061.66                32.496281       282.552494  \n",
      "355           2422.84                61.062266       295.959550  \n",
      "356           1901.40               108.421407       308.477661  \n",
      "357            843.44                79.927701       695.372470  \n",
      "358           2112.32               195.758229       341.807682  \n",
      "359            818.71               104.734075       254.325574  \n",
      "360           1340.31               734.771990        10.006198  \n",
      "361           3015.47               414.401112       230.962198  \n",
      "362            630.25               113.567802       434.662165  \n",
      "363           2538.81                30.001680       317.009625  \n",
      "364            107.57                39.144921       650.017252  \n",
      "365            333.59               321.057830       124.060444  \n",
      "366           1902.33               371.594886        68.009315  \n",
      "368            450.68               136.892510      1289.889157  \n",
      "369           1328.98               156.329893       338.939020  \n",
      "370           1238.55             10000.000000       404.375752  \n",
      "371            998.95                46.829788       347.502902  \n",
      "373             67.51               280.189549       296.028785  \n",
      "374           1280.42                24.420639       517.732887  \n",
      "375           2282.66               114.833490       224.725860  \n",
      "376           2114.92                26.196650       286.089810  \n",
      "377           2534.19                24.416903       277.697467  \n",
      "378           1621.31               427.992096        52.870253  \n",
      "379           2577.05                45.839089       296.639464  \n",
      "380           3191.70                73.704357       334.593611  \n",
      "381           1909.03               161.275444       237.650817  \n",
      "382           2604.66               205.078630       628.576071  \n",
      "383           2310.54               130.950892       217.612096  \n",
      "384           2237.69               379.316190       360.131716  \n",
      "385           2634.50               235.530317       183.360123  \n",
      "\n",
      "[332 rows x 7 columns]\n",
      "Annual_Income              float64\n",
      "Num_of_Loan                  int64\n",
      "Num_of_Delayed_Payment       int64\n",
      "Changed_Credit_Limit       float64\n",
      "Outstanding_Debt           float64\n",
      "Amount_invested_monthly    float64\n",
      "Monthly_Balance            float64\n",
      "dtype: object\n",
      "333\n"
     ]
    },
    {
     "ename": "AssertionError",
     "evalue": "",
     "output_type": "error",
     "traceback": [
      "\u001b[1;31m---------------------------------------------------------------------------\u001b[0m",
      "\u001b[1;31mAssertionError\u001b[0m                            Traceback (most recent call last)",
      "\u001b[1;32m<ipython-input-13-3e0c095e3c7a>\u001b[0m in \u001b[0;36m<module>\u001b[1;34m()\u001b[0m\n\u001b[0;32m     17\u001b[0m \u001b[1;32mfor\u001b[0m \u001b[0mcolumn\u001b[0m \u001b[1;32min\u001b[0m \u001b[0mdata\u001b[0m\u001b[1;33m.\u001b[0m\u001b[0mcolumns\u001b[0m\u001b[1;33m:\u001b[0m\u001b[1;33m\u001b[0m\u001b[0m\n\u001b[0;32m     18\u001b[0m   assert np.allclose(data.values[-1], [293734.71875, 1.9938838481903076, 29.373088836669922,\n\u001b[1;32m---> 19\u001b[1;33m                       9.994159698486328, 1739.4874267578125, 794.76171875, 388.9890441894531])\n\u001b[0m",
      "\u001b[1;31mAssertionError\u001b[0m: "
     ]
    }
   ],
   "source": [
    "assert add(5,6) == 11\n",
    "assert add(3.2,1.0) == 4.2\n",
    "assert type(add(4., 4)) == float\n",
    "np.testing.assert_allclose(add(np.array([1,2]), np.array([3,4])),\n",
    "                np.array([4,6]))\n",
    "\n",
    "data = np.array([[2, 4, 6], [1, 3, 5], [3, 6, 9]])\n",
    "normalized_data = norm(data, axis=1)\n",
    "assert np.allclose(normalized_data, [[0.26726124, 0.53452248, 0.80178373],\n",
    "                    [0.16903085, 0.50709255, 0.84515425],\n",
    "                    [0.26726124, 0.53452248, 0.80178373]])\n",
    "\n",
    "data = load_data()\n",
    "#assert len(data) == 327\n",
    "print(len(data))\n",
    "for column in data.columns:\n",
    "  assert np.allclose(data.values[-1], [293734.71875, 1.9938838481903076, 29.373088836669922,\n",
    "                      9.994159698486328, 1739.4874267578125, 794.76171875, 388.9890441894531])"
   ]
  },
  {
   "cell_type": "code",
   "execution_count": null,
   "metadata": {},
   "outputs": [],
   "source": []
  }
 ],
 "metadata": {
  "colab": {
   "provenance": []
  },
  "kernelspec": {
   "display_name": "Python 3",
   "language": "python",
   "name": "python3"
  },
  "language_info": {
   "codemirror_mode": {
    "name": "ipython",
    "version": 3
   },
   "file_extension": ".py",
   "mimetype": "text/x-python",
   "name": "python",
   "nbconvert_exporter": "python",
   "pygments_lexer": "ipython3",
   "version": "3.7.0"
  }
 },
 "nbformat": 4,
 "nbformat_minor": 1
}
