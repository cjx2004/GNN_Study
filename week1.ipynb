{
 "cells": [
  {
   "cell_type": "markdown",
   "metadata": {
    "id": "o0SaWNfqNeGZ"
   },
   "source": [
    "## Week1 Parctice\n",
    "\n",
    "The goal of this work is to give you a quick overview of Python implementations.\n",
    "\n",
    "To get started, **make a copy of this notebook** file by selecting \"Download $\\rightarrow$ Download.ipynb \" from the \"File\" menu, and then check the instructions and finish the work."
   ]
  },
  {
   "cell_type": "markdown",
   "metadata": {
    "id": "QFuguKuszryl"
   },
   "source": [
    "Implement an object \"StudentManager\", and the corresponding functions. You may check the docstring for more details and write your code from \"# Your code here\" to \"# End your code\".\n",
    "\n",
    "**Note:**\n",
    "The average grade can be calculated as follows:\n",
    "\n",
    "$$\n",
    "scores = \\frac{\\sum(credits * grade)}{\\sum(credits)}\n",
    "$$\n"
   ]
  },
  {
   "cell_type": "code",
   "execution_count": 14,
   "metadata": {
    "id": "XOPNzN2W79wr"
   },
   "outputs": [],
   "source": [
    "class StudentManager:\n",
    "    \"\"\"This is a toy class for students to\n",
    "    learn the basic use of Python.\n",
    "    You need to implement the functions based on\n",
    "    the descriptions.\n",
    "    \"\"\"\n",
    "\n",
    "    def __init__(self):\n",
    "        \"\"\"The initialization of this class.\"\"\"\n",
    "        self.students = []\n",
    "\n",
    "    def add_student(self, name, age, courses):\n",
    "        \"\"\"This function will add the students' name, age\n",
    "        and the courses they have taken. Please save these\n",
    "        information in a dictionary and put them into\n",
    "        the list of \"self.student\".\n",
    "\n",
    "        Parameters\n",
    "        ----------\n",
    "        name: Str\n",
    "          The name of the students.\n",
    "        age: Int\n",
    "          The age of the students.\n",
    "        courses: Dict[str, List[int]]\n",
    "          The courses the students have taken. The key is\n",
    "          the name of the course. The List contains two integer\n",
    "          elements. The first is the credits of the course, and\n",
    "          the second is the student's grade.\n",
    "        \"\"\"\n",
    "        # Your code here\n",
    "        student_info = {\n",
    "            \"name\": name,\n",
    "            \"age\": age,\n",
    "            \"courses\": courses\n",
    "        }\n",
    "        self.students.append(student_info)\n",
    "\n",
    "        # End code here\n",
    "\n",
    "    def average_scores(self):\n",
    "        \"\"\"This function is used to query average grades.\n",
    "\n",
    "        Returns\n",
    "        -------\n",
    "        scores: List[Float]\n",
    "          The average scores of the students\n",
    "        \"\"\"\n",
    "        # Your code here\n",
    "        scores = []\n",
    "        for student in self.students:\n",
    "            total_score = 0\n",
    "            total_credit = 0\n",
    "            for course, pairs in student[\"courses\"].items():\n",
    "                credits, grade = pairs\n",
    "                total_score += grade * credits\n",
    "                total_credit += credits\n",
    "\n",
    "            if total_credit == 0:\n",
    "                scores.append(0.0)\n",
    "            else:\n",
    "                average_score = total_score / total_credit\n",
    "                scores.append(average_score)\n",
    "        return scores\n",
    "\n",
    "        # End code here"
   ]
  },
  {
   "cell_type": "code",
   "execution_count": 8,
   "metadata": {
    "id": "xNrexWYu5DrO"
   },
   "outputs": [],
   "source": [
    "\"\"\"Now, you have implemented a basic class. Then, you may try the following part, and learn the usage of python class inheritance. You will create another class called \"GraduateStudent\" and inherite the \"StudentManager\" mentioned above. What's more, you need to implement another function described as follows:\"\"\"\n",
    "\n",
    "\n",
    "class GraduateStudent(StudentManager):\n",
    "\n",
    "    def find_students_in_course(self, course_name):\n",
    "        \"\"\"This function is used to query the name of\n",
    "        the students who have taken the course named [course_name].\n",
    "\n",
    "        Parameters\n",
    "        ----------\n",
    "        course_name: str\n",
    "          The name of the course.\n",
    "\n",
    "        Returns\n",
    "        -------\n",
    "        found_students: List[str]\n",
    "          The name list of the students who have taken\n",
    "          the course.\n",
    "        \"\"\"\n",
    "        # Your code here\n",
    "        found_students = []\n",
    "        for student in self.students:\n",
    "            if course_name in student[\"courses\"]:\n",
    "                found_students.append(student[\"name\"])\n",
    "\n",
    "        # End code here\n",
    "        return found_students\n"
   ]
  },
  {
   "cell_type": "code",
   "execution_count": null,
   "metadata": {
    "id": "-3JbuGEQ6xbT"
   },
   "outputs": [],
   "source": []
  },
  {
   "cell_type": "markdown",
   "metadata": {
    "id": "ZcPQah0H61Vi"
   },
   "source": [
    "After implementing the classes, you need to test the correctness. Try the following codes and check your answer."
   ]
  },
  {
   "cell_type": "code",
   "execution_count": 15,
   "metadata": {
    "id": "2KsRFsCh7H9a"
   },
   "outputs": [
    {
     "name": "stdout",
     "output_type": "stream",
     "text": [
      "['Alice', 'Bob']\n"
     ]
    }
   ],
   "source": [
    "graduate_manager = GraduateStudent()\n",
    "course = {\n",
    "    \"Math\": [5, 80],\n",
    "    \"Physics\": [3, 76]\n",
    "          }\n",
    "graduate_manager.add_student(\"Alice\", 25, course)\n",
    "course = {\n",
    "    \"Math\": [5, 74],\n",
    "    \"Computer Science\": [2, 92]\n",
    "          }\n",
    "graduate_manager.add_student(\"Bob\", 27, course)\n",
    "course = {\n",
    "    \"Computer Science\": [2, 87]\n",
    "          }\n",
    "graduate_manager.add_student(\"Eve\", 26, course)\n",
    "\n",
    "assert graduate_manager.find_students_in_course(\"Math\") == [\"Alice\", \"Bob\"]\n",
    "import numpy as np\n",
    "assert np.allclose(graduate_manager.average_scores(), [78.5, 79.14285714285714, 87.0])\n",
    "\n",
    "print(graduate_manager.find_students_in_course(\"Math\"))"
   ]
  },
  {
   "cell_type": "code",
   "execution_count": null,
   "metadata": {},
   "outputs": [],
   "source": []
  }
 ],
 "metadata": {
  "accelerator": "GPU",
  "colab": {
   "gpuType": "T4",
   "provenance": []
  },
  "kernelspec": {
   "display_name": "Python 3",
   "language": "python",
   "name": "python3"
  },
  "language_info": {
   "codemirror_mode": {
    "name": "ipython",
    "version": 3
   },
   "file_extension": ".py",
   "mimetype": "text/x-python",
   "name": "python",
   "nbconvert_exporter": "python",
   "pygments_lexer": "ipython3",
   "version": "3.7.0"
  }
 },
 "nbformat": 4,
 "nbformat_minor": 1
}
